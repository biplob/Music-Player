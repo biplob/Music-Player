{
 "cells": [
  {
   "cell_type": "code",
   "execution_count": null,
   "id": "0407f9c6",
   "metadata": {},
   "outputs": [],
   "source": [
    "# Pip instal Pygame for module to play, pause, load, stop, and resume music\n",
    "pip install pygame"
   ]
  },
  {
   "cell_type": "code",
   "execution_count": null,
   "id": "663f3039",
   "metadata": {},
   "outputs": [],
   "source": [
    "# Import tkinter to develop GUI\n",
    "from tkinter import *"
   ]
  },
  {
   "cell_type": "code",
   "execution_count": null,
   "id": "086a01a4",
   "metadata": {},
   "outputs": [],
   "source": [
    "import pygame"
   ]
  },
  {
   "cell_type": "code",
   "execution_count": null,
   "id": "c73d97ef",
   "metadata": {},
   "outputs": [],
   "source": [
    "# Import OS to access the song folder\n",
    "import os"
   ]
  },
  {
   "cell_type": "code",
   "execution_count": null,
   "id": "a231a70d",
   "metadata": {},
   "outputs": [],
   "source": [
    "root = Tk()\n",
    "MusicPlayer(root)"
   ]
  },
  {
   "cell_type": "code",
   "execution_count": null,
   "id": "f832d281",
   "metadata": {},
   "outputs": [],
   "source": [
    "def __init__(self,root):\n",
    "    self.root = root\n",
    "    self.root.title(\"MusicPlayer\")\n",
    "    self.root.geometry(\"1000x200+200+200\")\n",
    "    pygame.init()\n",
    "    self.track = StringVar()\n",
    "    self.status = StringVar()\n",
    "    \n",
    "    trackframe = LabelFrame(self.root,text=\"Song Track\",font=(\"times new roman\",15,\"bold\"),bg=\"Navyblue\",fg=\"white\",bd=5,relief=GROOVE)\n",
    "    trackframe.place(x=0,y=0,width=600,height=100)\n",
    "    \n",
    "    songtrack = Label(trackframe,textvariable=self.track,width=20,font=(\"times new roman\",24,\"bold\"),bg=\"Orange\",fg=\"gold\").grid(row=0,column=0,padx=10,pady=5)\n",
    "    \n",
    "    trackstatus = Label(trackframe,textvariable=self.status,font=(\"times new  roman\", 24,\"bold\"),bg=\"Orange\",fg=\"gold\").grid(row=0,column=1,padx=10,pady=5)\n",
    "    \n",
    "    # Creating Button Frame\n",
    "    buttonframe = LabelFrame(self.root,text=\"Control Panel\",font=(\"times new roman\",15,\"bold\"),bg=\"grey\",fg=\"white\",bd=5,relief=GROOVE)\n",
    "    buttonframe.place(x=0,y=100,width=600,height=100)\n",
    "    # Inserting Play Button\n",
    "    playbtn = Button(buttonframe,text=\"PLAYSONG\",command=self.playsong,width=10,height=1,font=(\"times new roman\",16,\"bold\"),fg=\"navyblue\",bg=\"pink\").grid(row=0,column=0,padx=10,pady=5)\n",
    "    # Inserting Pause Button\n",
    "    playbtn = Button(buttonframe,text=\"PAUSE\",command=self.pausesong,width=8,height=1,font=(\"times new roman\",16,\"bold\"),fg=\"navyblue\",bg=\"pink\").grid(row=0,column=1,padx=10,pady=5)\n",
    "    # Inserting Unpause Button\n",
    "    playbtn = Button(buttonframe,text=\"UNPAUSE\",command=self.unpausesong,width=10,height=1,font=(\"times new roman\",16,\"bold\"),fg=\"navyblue\",bg=\"pink\").grid(row=0,column=2,padx=10,pady=5)\n",
    "    # Inserting Stop Button\n",
    "    playbtn = Button(buttonframe,text=\"STOPSONG\",command=self.stopsong,width=10,height=1,font=(\"times new roman\",16,\"bold\"),fg=\"navyblue\",bg=\"pink\").grid(row=0,column=3,padx=10,pady=5)\n",
    "\n",
    "    # Creating Playlist Frame\n",
    "    songsframe = LabelFrame(self.root,text=\"Song Playlist\",font=(\"times new roman\",15,\"bold\"),bg=\"grey\",fg=\"white\",bd=5,relief=GROOVE)\n",
    "    songsframe.place(x=600,y=0,width=400,height=200)\n",
    "    \n",
    "    # Inserting scrolbar\n",
    "    scrol_y = Scrollbar(songsframe,orient=VERTICAL)\n",
    "    # Inserting Playlist listbox\n",
    "    self.playlist = Listbox(songsframe,yscrollcommand=scrol_y.set,selectbackground=\"gold\",selectmode=SINGLE,font=(\"times new roman\",12,\"bold\"),bg=\"silver\",fg=\"navyblue\",bd=5,relief=GROOVE)\n",
    "    # Applying Scrolllbar to listbox\n",
    "    scrol_y.pack(side=RIGHT,fill=Y)\n",
    "    scrol_y.config(command=self.playlist.yview)\n",
    "    self.playlist.pack(fill=BOTH)\n",
    "    # Changing Directory for fetching Songs\n",
    "    os.chdir(r'C:\\Users\\NS-Computer\\Music Player\\Playlist')\n",
    "    # Fetching Songs\n",
    "    songtracks = os.listdir()\n",
    "    # Inserting Songs into Playlist\n",
    "    for track in songtracks:\n",
    "        self.playlist.insert(END,track)\n",
    "    "
   ]
  },
  {
   "cell_type": "code",
   "execution_count": null,
   "id": "0b6b6bf9",
   "metadata": {},
   "outputs": [],
   "source": [
    "# Now we difine the play songs funcation\n",
    "\n",
    "def playsong(self):\n",
    "    # Displaying Selected Song title\n",
    "    self.track.set(self.playlist.get(ACTIVE))\n",
    "    # Displaying Status\n",
    "    self.status.set(\"-Playing\")\n",
    "    # Loading Selected Song\n",
    "    pygame.mixer.music.load(self.playlist.get(ACTIVE))\n",
    "    # Playing Selected Song\n",
    "    pygame.mixer.music.play()"
   ]
  },
  {
   "cell_type": "code",
   "execution_count": null,
   "id": "da2380b0",
   "metadata": {},
   "outputs": [],
   "source": [
    "# Define the stop songs funcation\n",
    "\n",
    "def stopsong(self):\n",
    "    # Displaying Status\n",
    "    self.status.set(\"-Stopped\")\n",
    "    # Stopped Song\n",
    "    pygame.mixer.music.stop()\n"
   ]
  },
  {
   "cell_type": "code",
   "execution_count": null,
   "id": "a69319f5",
   "metadata": {},
   "outputs": [],
   "source": [
    "# Define the pause songs funcation\n",
    "\n",
    "def pausesong(self):\n",
    "    # Displaying Status\n",
    "    self.status.set(\"-Paused\")\n",
    "    # Paused Song\n",
    "    pygame.mixer.music.pause()"
   ]
  },
  {
   "cell_type": "code",
   "execution_count": null,
   "id": "0e79e8d4",
   "metadata": {},
   "outputs": [],
   "source": [
    "# Define the unpause songs funcation\n",
    "\n",
    "def unpausesong(self):\n",
    "    # It will be display the status\n",
    "    self.status.set(\"-Playing\")\n",
    "    # Playing back Song\n",
    "    pygame.mixer.music.unpause()"
   ]
  },
  {
   "cell_type": "code",
   "execution_count": null,
   "id": "d079eafc",
   "metadata": {},
   "outputs": [],
   "source": [
    "# Root the windloop\n",
    "\n",
    "root.mainloop()"
   ]
  },
  {
   "cell_type": "code",
   "execution_count": null,
   "id": "ca52a3ec",
   "metadata": {},
   "outputs": [],
   "source": []
  }
 ],
 "metadata": {
  "kernelspec": {
   "display_name": "Python 3 (ipykernel)",
   "language": "python",
   "name": "python3"
  },
  "language_info": {
   "codemirror_mode": {
    "name": "ipython",
    "version": 3
   },
   "file_extension": ".py",
   "mimetype": "text/x-python",
   "name": "python",
   "nbconvert_exporter": "python",
   "pygments_lexer": "ipython3",
   "version": "3.9.12"
  }
 },
 "nbformat": 4,
 "nbformat_minor": 5
}
